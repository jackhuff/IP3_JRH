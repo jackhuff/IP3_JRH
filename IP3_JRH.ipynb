{
 "cells": [
  {
   "cell_type": "markdown",
   "id": "0eb2126e-46e0-4583-9826-1496320c9987",
   "metadata": {},
   "source": [
    "**IP3_JRH**"
   ]
  },
  {
   "cell_type": "markdown",
   "id": "d4c07e68-47fb-4a00-bcf1-b4ee07fb3fa9",
   "metadata": {},
   "source": [
    "##### Author: Jack Huff\n",
    "##### Semester: Spring 2022\n",
    "##### Version: 1.0"
   ]
  },
  {
   "cell_type": "code",
   "execution_count": 3,
   "id": "d7464f70-f93b-4319-b780-6522aaddf067",
   "metadata": {},
   "outputs": [],
   "source": [
    "import pandas as pd \n",
    "import numpy as np\n",
    "import matplotlib.pyplot as plt\n",
    "import seaborn as sns\n",
    "%matplotlib inline\n",
    "\n",
    "import statsmodels.api as sm"
   ]
  },
  {
   "cell_type": "code",
   "execution_count": 4,
   "id": "747f80e8-8505-403d-8a25-70c16615360b",
   "metadata": {},
   "outputs": [],
   "source": [
    "df = pd.read_csv(\"50Hertz.csv\")\n",
    "df = pd.read_csv(\"Amprion.csv\")\n",
    "df = pd.read_csv(\"TenneTTSO.csv\")\n",
    "df = pd.read_csv(\"TransnetBW.csv\")\n",
    "# Importing Data"
   ]
  },
  {
   "cell_type": "code",
   "execution_count": 5,
   "id": "23a3ff6d-526f-474e-8131-a60e7ee03602",
   "metadata": {},
   "outputs": [
    {
     "data": {
      "text/html": [
       "<div>\n",
       "<style scoped>\n",
       "    .dataframe tbody tr th:only-of-type {\n",
       "        vertical-align: middle;\n",
       "    }\n",
       "\n",
       "    .dataframe tbody tr th {\n",
       "        vertical-align: top;\n",
       "    }\n",
       "\n",
       "    .dataframe thead th {\n",
       "        text-align: right;\n",
       "    }\n",
       "</style>\n",
       "<table border=\"1\" class=\"dataframe\">\n",
       "  <thead>\n",
       "    <tr style=\"text-align: right;\">\n",
       "      <th></th>\n",
       "      <th>Date</th>\n",
       "      <th>00:00:00</th>\n",
       "      <th>00:15:00</th>\n",
       "      <th>00:30:00</th>\n",
       "      <th>00:45:00</th>\n",
       "      <th>01:00:00</th>\n",
       "      <th>01:15:00</th>\n",
       "      <th>01:30:00</th>\n",
       "      <th>01:45:00</th>\n",
       "      <th>02:00:00</th>\n",
       "      <th>...</th>\n",
       "      <th>21:30:00</th>\n",
       "      <th>21:45:00</th>\n",
       "      <th>22:00:00</th>\n",
       "      <th>22:15:00</th>\n",
       "      <th>22:30:00</th>\n",
       "      <th>22:45:00</th>\n",
       "      <th>23:00:00</th>\n",
       "      <th>23:15:00</th>\n",
       "      <th>23:30:00</th>\n",
       "      <th>23:45:00</th>\n",
       "    </tr>\n",
       "  </thead>\n",
       "  <tbody>\n",
       "    <tr>\n",
       "      <th>0</th>\n",
       "      <td>23/08/2019</td>\n",
       "      <td>1.44</td>\n",
       "      <td>1.38</td>\n",
       "      <td>1.38</td>\n",
       "      <td>1.50</td>\n",
       "      <td>1.77</td>\n",
       "      <td>1.87</td>\n",
       "      <td>1.95</td>\n",
       "      <td>2.47</td>\n",
       "      <td>2.68</td>\n",
       "      <td>...</td>\n",
       "      <td>21.99</td>\n",
       "      <td>18.33</td>\n",
       "      <td>18.56</td>\n",
       "      <td>18.56</td>\n",
       "      <td>17.11</td>\n",
       "      <td>14.19</td>\n",
       "      <td>15.69</td>\n",
       "      <td>16.71</td>\n",
       "      <td>18.88</td>\n",
       "      <td>21.67</td>\n",
       "    </tr>\n",
       "    <tr>\n",
       "      <th>1</th>\n",
       "      <td>24/08/2019</td>\n",
       "      <td>22.43</td>\n",
       "      <td>22.25</td>\n",
       "      <td>22.03</td>\n",
       "      <td>23.34</td>\n",
       "      <td>24.81</td>\n",
       "      <td>22.90</td>\n",
       "      <td>22.77</td>\n",
       "      <td>19.49</td>\n",
       "      <td>22.58</td>\n",
       "      <td>...</td>\n",
       "      <td>1.67</td>\n",
       "      <td>1.35</td>\n",
       "      <td>1.34</td>\n",
       "      <td>0.97</td>\n",
       "      <td>1.41</td>\n",
       "      <td>1.50</td>\n",
       "      <td>1.30</td>\n",
       "      <td>1.23</td>\n",
       "      <td>1.15</td>\n",
       "      <td>1.01</td>\n",
       "    </tr>\n",
       "    <tr>\n",
       "      <th>2</th>\n",
       "      <td>25/08/2019</td>\n",
       "      <td>0.75</td>\n",
       "      <td>1.06</td>\n",
       "      <td>0.72</td>\n",
       "      <td>1.00</td>\n",
       "      <td>0.80</td>\n",
       "      <td>0.95</td>\n",
       "      <td>0.66</td>\n",
       "      <td>0.84</td>\n",
       "      <td>0.84</td>\n",
       "      <td>...</td>\n",
       "      <td>1.96</td>\n",
       "      <td>1.61</td>\n",
       "      <td>1.39</td>\n",
       "      <td>0.93</td>\n",
       "      <td>0.60</td>\n",
       "      <td>0.41</td>\n",
       "      <td>0.56</td>\n",
       "      <td>0.36</td>\n",
       "      <td>0.23</td>\n",
       "      <td>0.19</td>\n",
       "    </tr>\n",
       "    <tr>\n",
       "      <th>3</th>\n",
       "      <td>26/08/2019</td>\n",
       "      <td>0.56</td>\n",
       "      <td>0.85</td>\n",
       "      <td>0.56</td>\n",
       "      <td>0.40</td>\n",
       "      <td>0.46</td>\n",
       "      <td>0.39</td>\n",
       "      <td>0.34</td>\n",
       "      <td>0.19</td>\n",
       "      <td>0.28</td>\n",
       "      <td>...</td>\n",
       "      <td>5.10</td>\n",
       "      <td>5.25</td>\n",
       "      <td>5.47</td>\n",
       "      <td>4.10</td>\n",
       "      <td>4.89</td>\n",
       "      <td>4.27</td>\n",
       "      <td>3.16</td>\n",
       "      <td>2.75</td>\n",
       "      <td>1.66</td>\n",
       "      <td>1.39</td>\n",
       "    </tr>\n",
       "    <tr>\n",
       "      <th>4</th>\n",
       "      <td>27/08/2019</td>\n",
       "      <td>1.08</td>\n",
       "      <td>1.02</td>\n",
       "      <td>0.98</td>\n",
       "      <td>0.84</td>\n",
       "      <td>0.57</td>\n",
       "      <td>0.46</td>\n",
       "      <td>0.28</td>\n",
       "      <td>0.15</td>\n",
       "      <td>0.12</td>\n",
       "      <td>...</td>\n",
       "      <td>11.25</td>\n",
       "      <td>11.60</td>\n",
       "      <td>11.66</td>\n",
       "      <td>12.43</td>\n",
       "      <td>11.17</td>\n",
       "      <td>9.35</td>\n",
       "      <td>11.21</td>\n",
       "      <td>13.26</td>\n",
       "      <td>12.63</td>\n",
       "      <td>13.20</td>\n",
       "    </tr>\n",
       "  </tbody>\n",
       "</table>\n",
       "<p>5 rows × 97 columns</p>\n",
       "</div>"
      ],
      "text/plain": [
       "         Date  00:00:00  00:15:00  00:30:00  00:45:00  01:00:00  01:15:00  \\\n",
       "0  23/08/2019      1.44      1.38      1.38      1.50      1.77      1.87   \n",
       "1  24/08/2019     22.43     22.25     22.03     23.34     24.81     22.90   \n",
       "2  25/08/2019      0.75      1.06      0.72      1.00      0.80      0.95   \n",
       "3  26/08/2019      0.56      0.85      0.56      0.40      0.46      0.39   \n",
       "4  27/08/2019      1.08      1.02      0.98      0.84      0.57      0.46   \n",
       "\n",
       "   01:30:00  01:45:00  02:00:00  ...  21:30:00  21:45:00  22:00:00  22:15:00  \\\n",
       "0      1.95      2.47      2.68  ...     21.99     18.33     18.56     18.56   \n",
       "1     22.77     19.49     22.58  ...      1.67      1.35      1.34      0.97   \n",
       "2      0.66      0.84      0.84  ...      1.96      1.61      1.39      0.93   \n",
       "3      0.34      0.19      0.28  ...      5.10      5.25      5.47      4.10   \n",
       "4      0.28      0.15      0.12  ...     11.25     11.60     11.66     12.43   \n",
       "\n",
       "   22:30:00  22:45:00  23:00:00  23:15:00  23:30:00  23:45:00  \n",
       "0     17.11     14.19     15.69     16.71     18.88     21.67  \n",
       "1      1.41      1.50      1.30      1.23      1.15      1.01  \n",
       "2      0.60      0.41      0.56      0.36      0.23      0.19  \n",
       "3      4.89      4.27      3.16      2.75      1.66      1.39  \n",
       "4     11.17      9.35     11.21     13.26     12.63     13.20  \n",
       "\n",
       "[5 rows x 97 columns]"
      ]
     },
     "execution_count": 5,
     "metadata": {},
     "output_type": "execute_result"
    }
   ],
   "source": [
    "df.head()"
   ]
  },
  {
   "cell_type": "code",
   "execution_count": 6,
   "id": "592dfeaa-dcb8-407e-81a5-ba624687feb1",
   "metadata": {},
   "outputs": [
    {
     "data": {
      "text/html": [
       "<div>\n",
       "<style scoped>\n",
       "    .dataframe tbody tr th:only-of-type {\n",
       "        vertical-align: middle;\n",
       "    }\n",
       "\n",
       "    .dataframe tbody tr th {\n",
       "        vertical-align: top;\n",
       "    }\n",
       "\n",
       "    .dataframe thead th {\n",
       "        text-align: right;\n",
       "    }\n",
       "</style>\n",
       "<table border=\"1\" class=\"dataframe\">\n",
       "  <thead>\n",
       "    <tr style=\"text-align: right;\">\n",
       "      <th></th>\n",
       "      <th>Date</th>\n",
       "      <th>00:00:00</th>\n",
       "      <th>00:15:00</th>\n",
       "      <th>00:30:00</th>\n",
       "      <th>00:45:00</th>\n",
       "      <th>01:00:00</th>\n",
       "      <th>01:15:00</th>\n",
       "      <th>01:30:00</th>\n",
       "      <th>01:45:00</th>\n",
       "      <th>02:00:00</th>\n",
       "      <th>...</th>\n",
       "      <th>21:30:00</th>\n",
       "      <th>21:45:00</th>\n",
       "      <th>22:00:00</th>\n",
       "      <th>22:15:00</th>\n",
       "      <th>22:30:00</th>\n",
       "      <th>22:45:00</th>\n",
       "      <th>23:00:00</th>\n",
       "      <th>23:15:00</th>\n",
       "      <th>23:30:00</th>\n",
       "      <th>23:45:00</th>\n",
       "    </tr>\n",
       "  </thead>\n",
       "  <tbody>\n",
       "    <tr>\n",
       "      <th>256</th>\n",
       "      <td>05/05/2020</td>\n",
       "      <td>7.44</td>\n",
       "      <td>7.44</td>\n",
       "      <td>8.29</td>\n",
       "      <td>6.57</td>\n",
       "      <td>8.0</td>\n",
       "      <td>8.78</td>\n",
       "      <td>7.78</td>\n",
       "      <td>6.67</td>\n",
       "      <td>6.4</td>\n",
       "      <td>...</td>\n",
       "      <td>32.67</td>\n",
       "      <td>33.0</td>\n",
       "      <td>33.5</td>\n",
       "      <td>33.0</td>\n",
       "      <td>34.0</td>\n",
       "      <td>32.33</td>\n",
       "      <td>30.44</td>\n",
       "      <td>31.5</td>\n",
       "      <td>31.33</td>\n",
       "      <td>30.0</td>\n",
       "    </tr>\n",
       "  </tbody>\n",
       "</table>\n",
       "<p>1 rows × 97 columns</p>\n",
       "</div>"
      ],
      "text/plain": [
       "           Date  00:00:00  00:15:00  00:30:00  00:45:00  01:00:00  01:15:00  \\\n",
       "256  05/05/2020      7.44      7.44      8.29      6.57       8.0      8.78   \n",
       "\n",
       "     01:30:00  01:45:00  02:00:00  ...  21:30:00  21:45:00  22:00:00  \\\n",
       "256      7.78      6.67       6.4  ...     32.67      33.0      33.5   \n",
       "\n",
       "     22:15:00  22:30:00  22:45:00  23:00:00  23:15:00  23:30:00  23:45:00  \n",
       "256      33.0      34.0     32.33     30.44      31.5     31.33      30.0  \n",
       "\n",
       "[1 rows x 97 columns]"
      ]
     },
     "execution_count": 6,
     "metadata": {},
     "output_type": "execute_result"
    }
   ],
   "source": [
    "df.sample()\n"
   ]
  },
  {
   "cell_type": "markdown",
   "id": "ef489201-5735-48c0-9223-7897349ebc32",
   "metadata": {},
   "source": [
    "### 1.1 a and b\n",
    "writing a function that converts date to datetime format and also creates a column with the correct name for each company. We ran the function 4 times. \n",
    "loc= 0 makes it the first column. \n",
    "pd.to_datetime converts the date column to datetime format. "
   ]
  },
  {
   "cell_type": "code",
   "execution_count": 7,
   "id": "73e68875-93b7-4e10-b19b-a6f7300933f2",
   "metadata": {},
   "outputs": [],
   "source": [
    "def convert_function(x):\n",
    "    df = pd.read_csv(x)\n",
    "    df.Date = pd.to_datetime(df.Date)\n",
    "    df.insert(loc=0, column= 'Company', value = (x[:-4]))\n",
    "    return(df)"
   ]
  },
  {
   "cell_type": "code",
   "execution_count": 8,
   "id": "c430af72-2949-4add-807b-618e7c860578",
   "metadata": {},
   "outputs": [],
   "source": [
    "Hertz = convert_function(\"50Hertz.csv\")\n",
    "Amprion = convert_function(\"Amprion.csv\")\n",
    "Tenne = convert_function(\"TenneTTSO.csv\")\n",
    "Trans = convert_function(\"TransnetBW.csv\")"
   ]
  },
  {
   "cell_type": "markdown",
   "id": "783a3f09-0815-47a3-8b00-a3a46936ca78",
   "metadata": {},
   "source": [
    "### 1.2 and 1.3.  Putting data frames together\n",
    "Here, we used the concat funciton to merge the data frames into one new data frame. "
   ]
  },
  {
   "cell_type": "code",
   "execution_count": 9,
   "id": "2604e506-29d3-4f8c-af1a-04a895d8fd04",
   "metadata": {},
   "outputs": [],
   "source": [
    "fulldf = pd.concat([Hertz, Amprion, Tenne, Trans])"
   ]
  },
  {
   "cell_type": "code",
   "execution_count": 10,
   "id": "ca4f9e3a-0be8-4c56-9204-4406a19bab3b",
   "metadata": {},
   "outputs": [
    {
     "data": {
      "text/html": [
       "<div>\n",
       "<style scoped>\n",
       "    .dataframe tbody tr th:only-of-type {\n",
       "        vertical-align: middle;\n",
       "    }\n",
       "\n",
       "    .dataframe tbody tr th {\n",
       "        vertical-align: top;\n",
       "    }\n",
       "\n",
       "    .dataframe thead th {\n",
       "        text-align: right;\n",
       "    }\n",
       "</style>\n",
       "<table border=\"1\" class=\"dataframe\">\n",
       "  <thead>\n",
       "    <tr style=\"text-align: right;\">\n",
       "      <th></th>\n",
       "      <th>Company</th>\n",
       "      <th>Date</th>\n",
       "      <th>00:00:00</th>\n",
       "      <th>00:15:00</th>\n",
       "      <th>00:30:00</th>\n",
       "      <th>00:45:00</th>\n",
       "      <th>01:00:00</th>\n",
       "      <th>01:15:00</th>\n",
       "      <th>01:30:00</th>\n",
       "      <th>01:45:00</th>\n",
       "      <th>...</th>\n",
       "      <th>21:30:00</th>\n",
       "      <th>21:45:00</th>\n",
       "      <th>22:00:00</th>\n",
       "      <th>22:15:00</th>\n",
       "      <th>22:30:00</th>\n",
       "      <th>22:45:00</th>\n",
       "      <th>23:00:00</th>\n",
       "      <th>23:15:00</th>\n",
       "      <th>23:30:00</th>\n",
       "      <th>23:45:00</th>\n",
       "    </tr>\n",
       "  </thead>\n",
       "  <tbody>\n",
       "    <tr>\n",
       "      <th>0</th>\n",
       "      <td>50Hertz</td>\n",
       "      <td>2019-08-23</td>\n",
       "      <td>74.0</td>\n",
       "      <td>73.0</td>\n",
       "      <td>63.0</td>\n",
       "      <td>55.0</td>\n",
       "      <td>54.0</td>\n",
       "      <td>53.0</td>\n",
       "      <td>51.0</td>\n",
       "      <td>52.0</td>\n",
       "      <td>...</td>\n",
       "      <td>68.0</td>\n",
       "      <td>68.0</td>\n",
       "      <td>63.0</td>\n",
       "      <td>61.0</td>\n",
       "      <td>57.0</td>\n",
       "      <td>52.0</td>\n",
       "      <td>51.0</td>\n",
       "      <td>49.0</td>\n",
       "      <td>45.0</td>\n",
       "      <td>40.0</td>\n",
       "    </tr>\n",
       "    <tr>\n",
       "      <th>1</th>\n",
       "      <td>50Hertz</td>\n",
       "      <td>2019-08-24</td>\n",
       "      <td>37.0</td>\n",
       "      <td>38.0</td>\n",
       "      <td>35.0</td>\n",
       "      <td>35.0</td>\n",
       "      <td>31.0</td>\n",
       "      <td>32.0</td>\n",
       "      <td>30.0</td>\n",
       "      <td>29.0</td>\n",
       "      <td>...</td>\n",
       "      <td>118.0</td>\n",
       "      <td>118.0</td>\n",
       "      <td>112.0</td>\n",
       "      <td>107.0</td>\n",
       "      <td>104.0</td>\n",
       "      <td>104.0</td>\n",
       "      <td>99.0</td>\n",
       "      <td>95.0</td>\n",
       "      <td>95.0</td>\n",
       "      <td>96.0</td>\n",
       "    </tr>\n",
       "    <tr>\n",
       "      <th>2</th>\n",
       "      <td>50Hertz</td>\n",
       "      <td>2019-08-25</td>\n",
       "      <td>93.0</td>\n",
       "      <td>88.0</td>\n",
       "      <td>85.0</td>\n",
       "      <td>81.0</td>\n",
       "      <td>76.0</td>\n",
       "      <td>80.0</td>\n",
       "      <td>81.0</td>\n",
       "      <td>76.0</td>\n",
       "      <td>...</td>\n",
       "      <td>111.0</td>\n",
       "      <td>108.0</td>\n",
       "      <td>103.0</td>\n",
       "      <td>96.0</td>\n",
       "      <td>93.0</td>\n",
       "      <td>88.0</td>\n",
       "      <td>86.0</td>\n",
       "      <td>82.0</td>\n",
       "      <td>80.0</td>\n",
       "      <td>77.0</td>\n",
       "    </tr>\n",
       "    <tr>\n",
       "      <th>3</th>\n",
       "      <td>50Hertz</td>\n",
       "      <td>2019-08-26</td>\n",
       "      <td>72.0</td>\n",
       "      <td>66.0</td>\n",
       "      <td>59.0</td>\n",
       "      <td>54.0</td>\n",
       "      <td>48.0</td>\n",
       "      <td>46.0</td>\n",
       "      <td>45.0</td>\n",
       "      <td>43.0</td>\n",
       "      <td>...</td>\n",
       "      <td>48.0</td>\n",
       "      <td>47.0</td>\n",
       "      <td>47.0</td>\n",
       "      <td>46.0</td>\n",
       "      <td>47.0</td>\n",
       "      <td>49.0</td>\n",
       "      <td>50.0</td>\n",
       "      <td>51.0</td>\n",
       "      <td>48.0</td>\n",
       "      <td>42.0</td>\n",
       "    </tr>\n",
       "    <tr>\n",
       "      <th>4</th>\n",
       "      <td>50Hertz</td>\n",
       "      <td>2019-08-27</td>\n",
       "      <td>39.0</td>\n",
       "      <td>38.0</td>\n",
       "      <td>36.0</td>\n",
       "      <td>36.0</td>\n",
       "      <td>34.0</td>\n",
       "      <td>31.0</td>\n",
       "      <td>31.0</td>\n",
       "      <td>30.0</td>\n",
       "      <td>...</td>\n",
       "      <td>54.0</td>\n",
       "      <td>53.0</td>\n",
       "      <td>51.0</td>\n",
       "      <td>52.0</td>\n",
       "      <td>51.0</td>\n",
       "      <td>52.0</td>\n",
       "      <td>54.0</td>\n",
       "      <td>54.0</td>\n",
       "      <td>56.0</td>\n",
       "      <td>59.0</td>\n",
       "    </tr>\n",
       "  </tbody>\n",
       "</table>\n",
       "<p>5 rows × 98 columns</p>\n",
       "</div>"
      ],
      "text/plain": [
       "   Company       Date  00:00:00  00:15:00  00:30:00  00:45:00  01:00:00  \\\n",
       "0  50Hertz 2019-08-23      74.0      73.0      63.0      55.0      54.0   \n",
       "1  50Hertz 2019-08-24      37.0      38.0      35.0      35.0      31.0   \n",
       "2  50Hertz 2019-08-25      93.0      88.0      85.0      81.0      76.0   \n",
       "3  50Hertz 2019-08-26      72.0      66.0      59.0      54.0      48.0   \n",
       "4  50Hertz 2019-08-27      39.0      38.0      36.0      36.0      34.0   \n",
       "\n",
       "   01:15:00  01:30:00  01:45:00  ...  21:30:00  21:45:00  22:00:00  22:15:00  \\\n",
       "0      53.0      51.0      52.0  ...      68.0      68.0      63.0      61.0   \n",
       "1      32.0      30.0      29.0  ...     118.0     118.0     112.0     107.0   \n",
       "2      80.0      81.0      76.0  ...     111.0     108.0     103.0      96.0   \n",
       "3      46.0      45.0      43.0  ...      48.0      47.0      47.0      46.0   \n",
       "4      31.0      31.0      30.0  ...      54.0      53.0      51.0      52.0   \n",
       "\n",
       "   22:30:00  22:45:00  23:00:00  23:15:00  23:30:00  23:45:00  \n",
       "0      57.0      52.0      51.0      49.0      45.0      40.0  \n",
       "1     104.0     104.0      99.0      95.0      95.0      96.0  \n",
       "2      93.0      88.0      86.0      82.0      80.0      77.0  \n",
       "3      47.0      49.0      50.0      51.0      48.0      42.0  \n",
       "4      51.0      52.0      54.0      54.0      56.0      59.0  \n",
       "\n",
       "[5 rows x 98 columns]"
      ]
     },
     "execution_count": 10,
     "metadata": {},
     "output_type": "execute_result"
    }
   ],
   "source": [
    "fulldf.head()"
   ]
  },
  {
   "cell_type": "markdown",
   "id": "dd468352-4ce8-4464-a209-fa6a4b3584b4",
   "metadata": {},
   "source": [
    "### 1.4.\n",
    "Made a data set that is sorted by year and mean values"
   ]
  },
  {
   "cell_type": "code",
   "execution_count": 11,
   "id": "bdbae6df-a8c9-4825-946d-d06cac8c6820",
   "metadata": {},
   "outputs": [],
   "source": [
    "sorteddf = fulldf.groupby([fulldf.Company, fulldf.Date.dt.year]).mean()"
   ]
  },
  {
   "cell_type": "code",
   "execution_count": 12,
   "id": "1e69be02-749c-4525-b418-cf1c4d34a1a3",
   "metadata": {},
   "outputs": [
    {
     "data": {
      "text/html": [
       "<div>\n",
       "<style scoped>\n",
       "    .dataframe tbody tr th:only-of-type {\n",
       "        vertical-align: middle;\n",
       "    }\n",
       "\n",
       "    .dataframe tbody tr th {\n",
       "        vertical-align: top;\n",
       "    }\n",
       "\n",
       "    .dataframe thead th {\n",
       "        text-align: right;\n",
       "    }\n",
       "</style>\n",
       "<table border=\"1\" class=\"dataframe\">\n",
       "  <thead>\n",
       "    <tr style=\"text-align: right;\">\n",
       "      <th></th>\n",
       "      <th></th>\n",
       "      <th>00:00:00</th>\n",
       "      <th>00:15:00</th>\n",
       "      <th>00:30:00</th>\n",
       "      <th>00:45:00</th>\n",
       "      <th>01:00:00</th>\n",
       "      <th>01:15:00</th>\n",
       "      <th>01:30:00</th>\n",
       "      <th>01:45:00</th>\n",
       "      <th>02:00:00</th>\n",
       "      <th>02:15:00</th>\n",
       "      <th>...</th>\n",
       "      <th>21:30:00</th>\n",
       "      <th>21:45:00</th>\n",
       "      <th>22:00:00</th>\n",
       "      <th>22:15:00</th>\n",
       "      <th>22:30:00</th>\n",
       "      <th>22:45:00</th>\n",
       "      <th>23:00:00</th>\n",
       "      <th>23:15:00</th>\n",
       "      <th>23:30:00</th>\n",
       "      <th>23:45:00</th>\n",
       "    </tr>\n",
       "    <tr>\n",
       "      <th>Company</th>\n",
       "      <th>Date</th>\n",
       "      <th></th>\n",
       "      <th></th>\n",
       "      <th></th>\n",
       "      <th></th>\n",
       "      <th></th>\n",
       "      <th></th>\n",
       "      <th></th>\n",
       "      <th></th>\n",
       "      <th></th>\n",
       "      <th></th>\n",
       "      <th></th>\n",
       "      <th></th>\n",
       "      <th></th>\n",
       "      <th></th>\n",
       "      <th></th>\n",
       "      <th></th>\n",
       "      <th></th>\n",
       "      <th></th>\n",
       "      <th></th>\n",
       "      <th></th>\n",
       "      <th></th>\n",
       "    </tr>\n",
       "  </thead>\n",
       "  <tbody>\n",
       "    <tr>\n",
       "      <th rowspan=\"2\" valign=\"top\">50Hertz</th>\n",
       "      <th>2019</th>\n",
       "      <td>143.320611</td>\n",
       "      <td>142.351145</td>\n",
       "      <td>142.366412</td>\n",
       "      <td>142.000000</td>\n",
       "      <td>141.900763</td>\n",
       "      <td>141.381679</td>\n",
       "      <td>140.648855</td>\n",
       "      <td>140.923664</td>\n",
       "      <td>140.732824</td>\n",
       "      <td>140.458015</td>\n",
       "      <td>...</td>\n",
       "      <td>144.328244</td>\n",
       "      <td>144.839695</td>\n",
       "      <td>144.709924</td>\n",
       "      <td>144.641221</td>\n",
       "      <td>144.442748</td>\n",
       "      <td>144.274809</td>\n",
       "      <td>144.954198</td>\n",
       "      <td>144.206107</td>\n",
       "      <td>144.076336</td>\n",
       "      <td>144.259542</td>\n",
       "    </tr>\n",
       "    <tr>\n",
       "      <th>2020</th>\n",
       "      <td>141.894737</td>\n",
       "      <td>141.124060</td>\n",
       "      <td>140.936090</td>\n",
       "      <td>140.838346</td>\n",
       "      <td>140.281955</td>\n",
       "      <td>140.037594</td>\n",
       "      <td>139.462406</td>\n",
       "      <td>139.112782</td>\n",
       "      <td>138.646617</td>\n",
       "      <td>138.560150</td>\n",
       "      <td>...</td>\n",
       "      <td>147.590226</td>\n",
       "      <td>147.214286</td>\n",
       "      <td>147.075188</td>\n",
       "      <td>146.661654</td>\n",
       "      <td>145.609023</td>\n",
       "      <td>144.624060</td>\n",
       "      <td>143.864662</td>\n",
       "      <td>143.680451</td>\n",
       "      <td>143.112782</td>\n",
       "      <td>142.338346</td>\n",
       "    </tr>\n",
       "    <tr>\n",
       "      <th rowspan=\"2\" valign=\"top\">Amprion</th>\n",
       "      <th>2019</th>\n",
       "      <td>106.992366</td>\n",
       "      <td>106.679389</td>\n",
       "      <td>106.091603</td>\n",
       "      <td>105.549618</td>\n",
       "      <td>108.083969</td>\n",
       "      <td>108.282443</td>\n",
       "      <td>108.129771</td>\n",
       "      <td>107.465649</td>\n",
       "      <td>107.282443</td>\n",
       "      <td>106.671756</td>\n",
       "      <td>...</td>\n",
       "      <td>115.412214</td>\n",
       "      <td>114.572519</td>\n",
       "      <td>114.076336</td>\n",
       "      <td>112.961832</td>\n",
       "      <td>112.595420</td>\n",
       "      <td>112.427481</td>\n",
       "      <td>111.343511</td>\n",
       "      <td>110.946565</td>\n",
       "      <td>110.328244</td>\n",
       "      <td>107.473282</td>\n",
       "    </tr>\n",
       "    <tr>\n",
       "      <th>2020</th>\n",
       "      <td>93.751880</td>\n",
       "      <td>94.312030</td>\n",
       "      <td>94.424812</td>\n",
       "      <td>94.033835</td>\n",
       "      <td>93.657895</td>\n",
       "      <td>93.563910</td>\n",
       "      <td>93.146617</td>\n",
       "      <td>92.812030</td>\n",
       "      <td>92.571429</td>\n",
       "      <td>92.127820</td>\n",
       "      <td>...</td>\n",
       "      <td>96.515038</td>\n",
       "      <td>96.338346</td>\n",
       "      <td>96.368421</td>\n",
       "      <td>96.379699</td>\n",
       "      <td>96.176692</td>\n",
       "      <td>94.898496</td>\n",
       "      <td>95.018797</td>\n",
       "      <td>94.973684</td>\n",
       "      <td>94.691729</td>\n",
       "      <td>94.383459</td>\n",
       "    </tr>\n",
       "    <tr>\n",
       "      <th>TenneTTSO</th>\n",
       "      <th>2019</th>\n",
       "      <td>150.866183</td>\n",
       "      <td>150.450992</td>\n",
       "      <td>150.152901</td>\n",
       "      <td>149.611679</td>\n",
       "      <td>148.946412</td>\n",
       "      <td>148.629847</td>\n",
       "      <td>148.808473</td>\n",
       "      <td>148.620382</td>\n",
       "      <td>148.236031</td>\n",
       "      <td>147.931298</td>\n",
       "      <td>...</td>\n",
       "      <td>152.761908</td>\n",
       "      <td>152.608015</td>\n",
       "      <td>152.675802</td>\n",
       "      <td>152.765115</td>\n",
       "      <td>152.631374</td>\n",
       "      <td>152.897176</td>\n",
       "      <td>152.363740</td>\n",
       "      <td>152.357405</td>\n",
       "      <td>152.236565</td>\n",
       "      <td>151.705496</td>\n",
       "    </tr>\n",
       "  </tbody>\n",
       "</table>\n",
       "<p>5 rows × 96 columns</p>\n",
       "</div>"
      ],
      "text/plain": [
       "                  00:00:00    00:15:00    00:30:00    00:45:00    01:00:00  \\\n",
       "Company   Date                                                               \n",
       "50Hertz   2019  143.320611  142.351145  142.366412  142.000000  141.900763   \n",
       "          2020  141.894737  141.124060  140.936090  140.838346  140.281955   \n",
       "Amprion   2019  106.992366  106.679389  106.091603  105.549618  108.083969   \n",
       "          2020   93.751880   94.312030   94.424812   94.033835   93.657895   \n",
       "TenneTTSO 2019  150.866183  150.450992  150.152901  149.611679  148.946412   \n",
       "\n",
       "                  01:15:00    01:30:00    01:45:00    02:00:00    02:15:00  \\\n",
       "Company   Date                                                               \n",
       "50Hertz   2019  141.381679  140.648855  140.923664  140.732824  140.458015   \n",
       "          2020  140.037594  139.462406  139.112782  138.646617  138.560150   \n",
       "Amprion   2019  108.282443  108.129771  107.465649  107.282443  106.671756   \n",
       "          2020   93.563910   93.146617   92.812030   92.571429   92.127820   \n",
       "TenneTTSO 2019  148.629847  148.808473  148.620382  148.236031  147.931298   \n",
       "\n",
       "                ...    21:30:00    21:45:00    22:00:00    22:15:00  \\\n",
       "Company   Date  ...                                                   \n",
       "50Hertz   2019  ...  144.328244  144.839695  144.709924  144.641221   \n",
       "          2020  ...  147.590226  147.214286  147.075188  146.661654   \n",
       "Amprion   2019  ...  115.412214  114.572519  114.076336  112.961832   \n",
       "          2020  ...   96.515038   96.338346   96.368421   96.379699   \n",
       "TenneTTSO 2019  ...  152.761908  152.608015  152.675802  152.765115   \n",
       "\n",
       "                  22:30:00    22:45:00    23:00:00    23:15:00    23:30:00  \\\n",
       "Company   Date                                                               \n",
       "50Hertz   2019  144.442748  144.274809  144.954198  144.206107  144.076336   \n",
       "          2020  145.609023  144.624060  143.864662  143.680451  143.112782   \n",
       "Amprion   2019  112.595420  112.427481  111.343511  110.946565  110.328244   \n",
       "          2020   96.176692   94.898496   95.018797   94.973684   94.691729   \n",
       "TenneTTSO 2019  152.631374  152.897176  152.363740  152.357405  152.236565   \n",
       "\n",
       "                  23:45:00  \n",
       "Company   Date              \n",
       "50Hertz   2019  144.259542  \n",
       "          2020  142.338346  \n",
       "Amprion   2019  107.473282  \n",
       "          2020   94.383459  \n",
       "TenneTTSO 2019  151.705496  \n",
       "\n",
       "[5 rows x 96 columns]"
      ]
     },
     "execution_count": 12,
     "metadata": {},
     "output_type": "execute_result"
    }
   ],
   "source": [
    "sorteddf.head()"
   ]
  },
  {
   "cell_type": "markdown",
   "id": "4420393a-1f90-48ea-8186-d85adeb68e2f",
   "metadata": {},
   "source": [
    "### 1.5 Visualizing the data"
   ]
  },
  {
   "cell_type": "markdown",
   "id": "75edfa0c-2525-4a6b-a891-a51058ac3d8a",
   "metadata": {},
   "source": [
    "creating data frames for midnight and noon "
   ]
  },
  {
   "cell_type": "code",
   "execution_count": 13,
   "id": "d396abdc-df35-4a6a-88b7-b24fb427814b",
   "metadata": {},
   "outputs": [],
   "source": [
    "midnight = sorteddf[\"00:00:00\"]\n",
    "noon = sorteddf[\"12:00:00\"]"
   ]
  },
  {
   "cell_type": "markdown",
   "id": "78624093-7774-4275-be97-88a0cc3af282",
   "metadata": {},
   "source": [
    "Checking to make sure that the dataframes work and match the series shown"
   ]
  },
  {
   "cell_type": "code",
   "execution_count": 14,
   "id": "d9a16a9c-1054-4a37-8146-d23f98ea1147",
   "metadata": {},
   "outputs": [
    {
     "data": {
      "text/plain": [
       "Company     Date\n",
       "50Hertz     2019    143.320611\n",
       "            2020    141.894737\n",
       "Amprion     2019    106.992366\n",
       "            2020     93.751880\n",
       "TenneTTSO   2019    150.866183\n",
       "            2020    141.603835\n",
       "TransnetBW  2019     39.293740\n",
       "            2020     30.899023\n",
       "Name: 00:00:00, dtype: float64"
      ]
     },
     "execution_count": 14,
     "metadata": {},
     "output_type": "execute_result"
    }
   ],
   "source": [
    "midnight"
   ]
  },
  {
   "cell_type": "code",
   "execution_count": 15,
   "id": "856c2e87-5e8d-423a-be29-9e820e50bab5",
   "metadata": {},
   "outputs": [
    {
     "data": {
      "text/plain": [
       "Company     Date\n",
       "50Hertz     2019    142.473282\n",
       "            2020    163.398496\n",
       "Amprion     2019    100.572519\n",
       "            2020    101.357143\n",
       "TenneTTSO   2019    149.229466\n",
       "            2020    162.944436\n",
       "TransnetBW  2019     37.772366\n",
       "            2020     25.731053\n",
       "Name: 12:00:00, dtype: float64"
      ]
     },
     "execution_count": 15,
     "metadata": {},
     "output_type": "execute_result"
    }
   ],
   "source": [
    "noon"
   ]
  },
  {
   "cell_type": "markdown",
   "id": "d88f90d6-ce51-4b4f-834c-dd850fe2106b",
   "metadata": {},
   "source": [
    "**Plotting the bar charts**"
   ]
  },
  {
   "cell_type": "code",
   "execution_count": 16,
   "id": "dd5933a7-1aba-4a9d-87e6-4c160abcbb9a",
   "metadata": {},
   "outputs": [
    {
     "data": {
      "image/png": "[encoded data removed]",
      "text/plain": [
       "<Figure size 432x288 with 1 Axes>"
      ]
     },
     "metadata": {
      "needs_background": "light"
     },
     "output_type": "display_data"
    }
   ],
   "source": [
    "midnight.sort_values().plot(kind='barh')\n",
    "plt.title(\"TW/hours by Comapny/Year @ Midnight\")\n",
    "plt.savefig('midnightbar.png')"
   ]
  },
  {
   "cell_type": "code",
   "execution_count": 17,
   "id": "dbcb329e-8320-4c13-9895-e8ff10fbb0b4",
   "metadata": {},
   "outputs": [
    {
     "data": {
      "image/png": "[encoded data removed]",
      "text/plain": [
       "<Figure size 432x288 with 1 Axes>"
      ]
     },
     "metadata": {
      "needs_background": "light"
     },
     "output_type": "display_data"
    }
   ],
   "source": [
    "noon.sort_values().plot(kind='barh', color='red')\n",
    "plt.title(\"TW/hours by Comapny/Year @ Noon\")\n",
    "plt.savefig('noonbar.png')"
   ]
  },
  {
   "cell_type": "markdown",
   "id": "7a6e783a-cfcb-436c-9705-2f045f16c76d",
   "metadata": {},
   "source": [
    "### 1.6 Combining the two charts\n",
    "stacked the plots on top of each other, colored them, and made sure they shared the same x axis. "
   ]
  },
  {
   "cell_type": "code",
   "execution_count": 18,
   "id": "257b1181-8fbc-4434-abf5-731da786f4f9",
   "metadata": {},
   "outputs": [
    {
     "data": {
      "image/png": "[encoded data removed]",
      "text/plain": [
       "<Figure size 432x288 with 2 Axes>"
      ]
     },
     "metadata": {
      "needs_background": "light"
     },
     "output_type": "display_data"
    }
   ],
   "source": [
    "combined_bar_charts, (ax_midnight, ax_noon) = plt.subplots(2,1, sharex=True)\n",
    "midnight.sort_values().plot(kind='barh', ax=ax_midnight, color='silver', title= 'TW/hours by Comapny/Year @ Midnight')\n",
    "noon.sort_values().plot(kind='barh', ax=ax_noon, color='gray', title= 'TW/hours by Comapny/Year @ Noon')\n",
    "plt.savefig('combined_bar_chart.png')"
   ]
  },
  {
   "cell_type": "markdown",
   "id": "c514d053-63d7-45dc-80de-1759d8de3924",
   "metadata": {},
   "source": [
    "### 1.7 \n",
    "creating a function that accepts unground dataframes"
   ]
  },
  {
   "cell_type": "code",
   "execution_count": 19,
   "id": "1133054b-ac1e-4fee-9d8b-c0f48ba3db36",
   "metadata": {},
   "outputs": [],
   "source": [
    "def daily_view(dataframe, company, date, color= 'purple'):\n",
    "    df = dataframe.query (f'Company== \"{company}\" and Date == \"{date}\"').drop(columns = [\"Company\", \"Date\"]).melt()\n",
    "                       \n",
    "    fig = df.plot(kind='area', color= f'{color}', x='variable', y='value',title = f'Power Production: {company}/{date}',figsize= (8,4))\n",
    "    fig.set_xlabel('Time of Day')\n",
    "    fig.set_ylabel('TW/h Generated')\n",
    "                    "
   ]
  },
  {
   "cell_type": "code",
   "execution_count": 20,
   "id": "c439e679-0730-493a-9e30-f6a1a76d5721",
   "metadata": {},
   "outputs": [
    {
     "data": {
      "image/png": "[encoded data removed]",
      "text/plain": [
       "<Figure size 576x288 with 1 Axes>"
      ]
     },
     "metadata": {
      "needs_background": "light"
     },
     "output_type": "display_data"
    }
   ],
   "source": [
    "daily_view(fulldf, '50Hertz', '2019-08-24', 'purple')\n"
   ]
  },
  {
   "cell_type": "markdown",
   "id": "2c7adee4-b3a3-4020-b529-0853f0a0a225",
   "metadata": {},
   "source": [
    "### Part 2"
   ]
  },
  {
   "cell_type": "markdown",
   "id": "c72ca5e3-23ad-4fe1-98b7-40a493fc02ee",
   "metadata": {},
   "source": [
    "#### 1. Generating a line chart"
   ]
  },
  {
   "cell_type": "code",
   "execution_count": 21,
   "id": "7ab19c63-16b2-4a38-88f7-c039af677d44",
   "metadata": {},
   "outputs": [
    {
     "data": {
      "text/plain": [
       "['anagrams',\n",
       " 'anscombe',\n",
       " 'attention',\n",
       " 'brain_networks',\n",
       " 'car_crashes',\n",
       " 'diamonds',\n",
       " 'dots',\n",
       " 'exercise',\n",
       " 'flights',\n",
       " 'fmri',\n",
       " 'gammas',\n",
       " 'geyser',\n",
       " 'iris',\n",
       " 'mpg',\n",
       " 'penguins',\n",
       " 'planets',\n",
       " 'taxis',\n",
       " 'tips',\n",
       " 'titanic']"
      ]
     },
     "execution_count": 21,
     "metadata": {},
     "output_type": "execute_result"
    }
   ],
   "source": [
    "sns.get_dataset_names()"
   ]
  },
  {
   "cell_type": "code",
   "execution_count": 22,
   "id": "7affef0f-7715-41d2-abf3-1ee861f7d533",
   "metadata": {},
   "outputs": [],
   "source": [
    "exercise = sns.load_dataset('exercise')"
   ]
  },
  {
   "cell_type": "code",
   "execution_count": 23,
   "id": "f8f8face-be9b-4f2c-b0d9-4b17142b315f",
   "metadata": {},
   "outputs": [
    {
     "data": {
      "text/html": [
       "<div>\n",
       "<style scoped>\n",
       "    .dataframe tbody tr th:only-of-type {\n",
       "        vertical-align: middle;\n",
       "    }\n",
       "\n",
       "    .dataframe tbody tr th {\n",
       "        vertical-align: top;\n",
       "    }\n",
       "\n",
       "    .dataframe thead th {\n",
       "        text-align: right;\n",
       "    }\n",
       "</style>\n",
       "<table border=\"1\" class=\"dataframe\">\n",
       "  <thead>\n",
       "    <tr style=\"text-align: right;\">\n",
       "      <th></th>\n",
       "      <th>Unnamed: 0</th>\n",
       "      <th>id</th>\n",
       "      <th>diet</th>\n",
       "      <th>pulse</th>\n",
       "      <th>time</th>\n",
       "      <th>kind</th>\n",
       "    </tr>\n",
       "  </thead>\n",
       "  <tbody>\n",
       "    <tr>\n",
       "      <th>0</th>\n",
       "      <td>0</td>\n",
       "      <td>1</td>\n",
       "      <td>low fat</td>\n",
       "      <td>85</td>\n",
       "      <td>1 min</td>\n",
       "      <td>rest</td>\n",
       "    </tr>\n",
       "    <tr>\n",
       "      <th>1</th>\n",
       "      <td>1</td>\n",
       "      <td>1</td>\n",
       "      <td>low fat</td>\n",
       "      <td>85</td>\n",
       "      <td>15 min</td>\n",
       "      <td>rest</td>\n",
       "    </tr>\n",
       "    <tr>\n",
       "      <th>2</th>\n",
       "      <td>2</td>\n",
       "      <td>1</td>\n",
       "      <td>low fat</td>\n",
       "      <td>88</td>\n",
       "      <td>30 min</td>\n",
       "      <td>rest</td>\n",
       "    </tr>\n",
       "    <tr>\n",
       "      <th>3</th>\n",
       "      <td>3</td>\n",
       "      <td>2</td>\n",
       "      <td>low fat</td>\n",
       "      <td>90</td>\n",
       "      <td>1 min</td>\n",
       "      <td>rest</td>\n",
       "    </tr>\n",
       "    <tr>\n",
       "      <th>4</th>\n",
       "      <td>4</td>\n",
       "      <td>2</td>\n",
       "      <td>low fat</td>\n",
       "      <td>92</td>\n",
       "      <td>15 min</td>\n",
       "      <td>rest</td>\n",
       "    </tr>\n",
       "  </tbody>\n",
       "</table>\n",
       "</div>"
      ],
      "text/plain": [
       "   Unnamed: 0  id     diet  pulse    time  kind\n",
       "0           0   1  low fat     85   1 min  rest\n",
       "1           1   1  low fat     85  15 min  rest\n",
       "2           2   1  low fat     88  30 min  rest\n",
       "3           3   2  low fat     90   1 min  rest\n",
       "4           4   2  low fat     92  15 min  rest"
      ]
     },
     "execution_count": 23,
     "metadata": {},
     "output_type": "execute_result"
    }
   ],
   "source": [
    "exercise.head()"
   ]
  },
  {
   "cell_type": "code",
   "execution_count": 24,
   "id": "39c195ae-5790-4dbf-964c-373d8a02c130",
   "metadata": {},
   "outputs": [
    {
     "data": {
      "text/html": [
       "<div>\n",
       "<style scoped>\n",
       "    .dataframe tbody tr th:only-of-type {\n",
       "        vertical-align: middle;\n",
       "    }\n",
       "\n",
       "    .dataframe tbody tr th {\n",
       "        vertical-align: top;\n",
       "    }\n",
       "\n",
       "    .dataframe thead th {\n",
       "        text-align: right;\n",
       "    }\n",
       "</style>\n",
       "<table border=\"1\" class=\"dataframe\">\n",
       "  <thead>\n",
       "    <tr style=\"text-align: right;\">\n",
       "      <th></th>\n",
       "      <th>Unnamed: 0</th>\n",
       "      <th>id</th>\n",
       "      <th>diet</th>\n",
       "      <th>pulse</th>\n",
       "      <th>time</th>\n",
       "      <th>kind</th>\n",
       "    </tr>\n",
       "  </thead>\n",
       "  <tbody>\n",
       "    <tr>\n",
       "      <th>71</th>\n",
       "      <td>71</td>\n",
       "      <td>24</td>\n",
       "      <td>low fat</td>\n",
       "      <td>120</td>\n",
       "      <td>30 min</td>\n",
       "      <td>running</td>\n",
       "    </tr>\n",
       "  </tbody>\n",
       "</table>\n",
       "</div>"
      ],
      "text/plain": [
       "    Unnamed: 0  id     diet  pulse    time     kind\n",
       "71          71  24  low fat    120  30 min  running"
      ]
     },
     "execution_count": 24,
     "metadata": {},
     "output_type": "execute_result"
    }
   ],
   "source": [
    "exercise.sample()"
   ]
  },
  {
   "cell_type": "code",
   "execution_count": 25,
   "id": "98d16d24-fb62-49f6-8cb9-73b9544cd6f0",
   "metadata": {},
   "outputs": [
    {
     "data": {
      "text/plain": [
       "Text(0, 0.5, 'ID')"
      ]
     },
     "execution_count": 25,
     "metadata": {},
     "output_type": "execute_result"
    },
    {
     "data": {
      "image/png": "[encoded data removed]",
      "text/plain": [
       "<Figure size 432x288 with 1 Axes>"
      ]
     },
     "metadata": {
      "needs_background": "light"
     },
     "output_type": "display_data"
    }
   ],
   "source": [
    "plt.figure\n",
    "plt.plot(exercise.pulse, exercise.id)\n",
    "plt.title(\"exercise: pulse versus ID\")\n",
    "plt.xlabel(\"Pulse\")\n",
    "plt.ylabel(\"ID\")"
   ]
  },
  {
   "cell_type": "markdown",
   "id": "67d38a47-b1cf-4d0b-bfc7-4af9121ce273",
   "metadata": {},
   "source": [
    "### 2. Box and Whisker Plot"
   ]
  },
  {
   "cell_type": "code",
   "execution_count": 26,
   "id": "9a008317-bc8d-4491-b06b-b22867abddd4",
   "metadata": {},
   "outputs": [
    {
     "data": {
      "image/png": "[encoded data removed]",
      "text/plain": [
       "<Figure size 432x288 with 1 Axes>"
      ]
     },
     "metadata": {
      "needs_background": "light"
     },
     "output_type": "display_data"
    }
   ],
   "source": [
    "ax1 = exercise.boxplot(column = 'pulse', by ='time')\n",
    "ax1.set_title('exercise')\n",
    "ax1.set_ylabel('pulse')\n",
    "ax1.set_xlabel('time')\n",
    "ax1.grid(False)"
   ]
  },
  {
   "cell_type": "markdown",
   "id": "bb1b2fd8-8393-4cbf-8930-1048370bf26a",
   "metadata": {},
   "source": [
    "### 3. Histogram and Kernel Density"
   ]
  },
  {
   "cell_type": "code",
   "execution_count": 27,
   "id": "69368eb3-b6ee-41a0-9a30-94d2541052ff",
   "metadata": {},
   "outputs": [
    {
     "data": {
      "text/plain": [
       "<seaborn.axisgrid.FacetGrid at 0x1237d41f0>"
      ]
     },
     "execution_count": 27,
     "metadata": {},
     "output_type": "execute_result"
    },
    {
     "data": {
      "image/png": "[encoded data removed]",
      "text/plain": [
       "<Figure size 360x360 with 1 Axes>"
      ]
     },
     "metadata": {
      "needs_background": "light"
     },
     "output_type": "display_data"
    }
   ],
   "source": [
    "sns.displot(exercise.pulse, kind='kde')"
   ]
  },
  {
   "cell_type": "code",
   "execution_count": 48,
   "id": "36c5697d-f472-4d3b-b125-5354ac81bed0",
   "metadata": {},
   "outputs": [
    {
     "data": {
      "text/plain": [
       "(array([30.,  0.,  0.,  0.,  0., 30.,  0.,  0.,  0., 30.]),\n",
       " array([0. , 0.2, 0.4, 0.6, 0.8, 1. , 1.2, 1.4, 1.6, 1.8, 2. ]),\n",
       " <BarContainer object of 10 artists>)"
      ]
     },
     "execution_count": 48,
     "metadata": {},
     "output_type": "execute_result"
    },
    {
     "data": {
      "image/png": "[encoded data removed]",
      "text/plain": [
       "<Figure size 432x288 with 1 Axes>"
      ]
     },
     "metadata": {
      "needs_background": "light"
     },
     "output_type": "display_data"
    }
   ],
   "source": [
    "plt.hist(exercise.time, bins=10)\n"
   ]
  },
  {
   "cell_type": "markdown",
   "id": "3688b685-acbe-4408-8c0e-5ca51d7d849f",
   "metadata": {},
   "source": [
    "### 4. Heatmap"
   ]
  },
  {
   "cell_type": "code",
   "execution_count": 49,
   "id": "a3c2cc4c-ad5a-4d79-8313-f9171272d78c",
   "metadata": {},
   "outputs": [
    {
     "data": {
      "text/plain": [
       "<AxesSubplot:>"
      ]
     },
     "execution_count": 49,
     "metadata": {},
     "output_type": "execute_result"
    },
    {
     "data": {
      "image/png": "[encoded data removed]",
      "text/plain": [
       "<Figure size 432x288 with 2 Axes>"
      ]
     },
     "metadata": {
      "needs_background": "light"
     },
     "output_type": "display_data"
    }
   ],
   "source": [
    "sns.heatmap(exercise.corr())"
   ]
  },
  {
   "cell_type": "markdown",
   "id": "f4fb9074-f550-4c92-b0ba-6a880c60e864",
   "metadata": {},
   "source": [
    "### 5. Seaborn Pair Plot"
   ]
  },
  {
   "cell_type": "code",
   "execution_count": 46,
   "id": "c8f2b678-a10f-4783-8ea8-cb38d902563f",
   "metadata": {},
   "outputs": [
    {
     "data": {
      "text/plain": [
       "<seaborn.axisgrid.PairGrid at 0x123e2f5b0>"
      ]
     },
     "execution_count": 46,
     "metadata": {},
     "output_type": "execute_result"
    },
    {
     "data": {
      "image/png": "[encoded data removed]",
      "text/plain": [
       "<Figure size 609.75x540 with 12 Axes>"
      ]
     },
     "metadata": {
      "needs_background": "light"
     },
     "output_type": "display_data"
    }
   ],
   "source": [
    "sns.pairplot(exercise, hue = 'diet')"
   ]
  },
  {
   "cell_type": "code",
   "execution_count": null,
   "id": "c007740c-df4a-4565-ab4c-9efffe064eeb",
   "metadata": {},
   "outputs": [],
   "source": []
  }
 ],
 "metadata": {
  "kernelspec": {
   "display_name": "Python 3",
   "language": "python",
   "name": "python3"
  },
  "language_info": {
   "codemirror_mode": {
    "name": "ipython",
    "version": 3
   },
   "file_extension": ".py",
   "mimetype": "text/x-python",
   "name": "python",
   "nbconvert_exporter": "python",
   "pygments_lexer": "ipython3",
   "version": "3.8.8"
  }
 },
 "nbformat": 4,
 "nbformat_minor": 5
}
